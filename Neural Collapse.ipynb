{
 "cells": [
  {
   "cell_type": "code",
   "execution_count": 22,
   "metadata": {},
   "outputs": [],
   "source": [
    "import torch\n",
    "from model import ResNet18\n",
    "from torch.optim import SGD\n",
    "import matplotlib.pyplot as plt \n",
    "import numpy as np\n",
    "import torch.nn as nn\n",
    "import torchvision.transforms as transforms\n",
    "import torchvision.datasets as datasets\n",
    "import torch.utils.data\n",
    "from copy import deepcopy\n",
    "import torch.nn.functional as F\n",
    "from sklearn.metrics.pairwise import cosine_similarity"
   ]
  },
  {
   "cell_type": "markdown",
   "metadata": {},
   "source": [
    "# 参数设置\n",
    "\n",
    "\n"
   ]
  },
  {
   "cell_type": "code",
   "execution_count": 23,
   "metadata": {},
   "outputs": [],
   "source": [
    "setting = {}\n",
    "setting['epochs'] = 350\n",
    "setting['lr'] = 0.1\n",
    "setting['use_gpu'] = False\n",
    "setting['lr_shedule'] =  [350 //3, 700//3 ]\n",
    "setting['lr_decay'] = 0.1\n",
    "setting['batch_size'] = 128\n",
    "setting['dataset'] = 'CIAFR10'"
   ]
  },
  {
   "cell_type": "markdown",
   "metadata": {},
   "source": [
    "# 导入数据\n"
   ]
  },
  {
   "cell_type": "code",
   "execution_count": 24,
   "metadata": {},
   "outputs": [
    {
     "name": "stdout",
     "output_type": "stream",
     "text": [
      "Files already downloaded and verified\n"
     ]
    }
   ],
   "source": [
    "normalize = transforms.Normalize(mean=[0.485, 0.456, 0.406],\n",
    "                                     std=[0.229, 0.224, 0.225])\n",
    "train_loader = torch.utils.data.DataLoader(\n",
    "        datasets.CIFAR10(root='./data/', train=True, transform=transforms.Compose([\n",
    "            transforms.RandomHorizontalFlip(),\n",
    "            transforms.RandomCrop(32, 4),\n",
    "            transforms.ToTensor(),\n",
    "            normalize,\n",
    "        ]), download=True),\n",
    "        batch_size=setting['batch_size'], shuffle=True,\n",
    "        num_workers=8, pin_memory=True)\n",
    "val_loader = torch.utils.data.DataLoader(\n",
    "        datasets.CIFAR10(root='./data/', train=True, transform=transforms.Compose([\n",
    "            transforms.ToTensor(),\n",
    "            normalize,\n",
    "        ])),\n",
    "        batch_size=setting['batch_size'], shuffle=False,\n",
    "        num_workers=8, pin_memory=True)\n",
    "test_loader = torch.utils.data.DataLoader(\n",
    "        datasets.CIFAR10(root='./data/', train=False, transform=transforms.Compose([\n",
    "            transforms.ToTensor(),\n",
    "            normalize,\n",
    "        ])),\n",
    "        batch_size=setting['batch_size'], shuffle=False,\n",
    "        num_workers=8, pin_memory=True)\n"
   ]
  },
  {
   "cell_type": "markdown",
   "metadata": {},
   "source": [
    "# 导入模型"
   ]
  },
  {
   "cell_type": "code",
   "execution_count": 25,
   "metadata": {},
   "outputs": [],
   "source": [
    "model = ResNet18()\n",
    "if setting['use_gpu'] == True:\n",
    "    model = model.cuda()"
   ]
  },
  {
   "cell_type": "markdown",
   "metadata": {},
   "source": [
    "# 优化器"
   ]
  },
  {
   "cell_type": "code",
   "execution_count": 26,
   "metadata": {},
   "outputs": [],
   "source": [
    "optimizer = SGD(model.parameters(), lr=setting['lr'], momentum=0.9, weight_decay=5e-4)\n",
    "if setting['use_gpu']:\n",
    "    device = 'cuda'\n",
    "else:\n",
    "    device = 'cpu'"
   ]
  },
  {
   "cell_type": "markdown",
   "metadata": {},
   "source": [
    "# 计算 Test Acc\n"
   ]
  },
  {
   "cell_type": "code",
   "execution_count": 27,
   "metadata": {},
   "outputs": [],
   "source": [
    "def evaluate_batch(model, data_loader, device):\n",
    "\tmodel.eval()\n",
    "\tcorrect = num = correct_t5 =0\n",
    "\tfor iter, pack in enumerate(data_loader):\n",
    "\t\tdata, target = pack[0].to(device), pack[1].to(device)\n",
    "\t\tlogits = model(data)\n",
    "\t\t_, pred = logits.max(1)\n",
    "\t\t_, pred_t5 = torch.topk(logits, 5, dim=1)\n",
    "\t\tcorrect += pred.eq(target).sum().item()\n",
    "\t\tcorrect_t5 += pred_t5.eq(torch.unsqueeze(target, 1).repeat(1, 5)).sum().item()\n",
    "\t\tnum += data.shape[0]\n",
    "\tprint('Correct : ', correct)\n",
    "\tprint('Num : ', num)\n",
    "\tprint('Test ACC : ', correct / num)\n",
    "\tprint('Top 5 ACC : ', correct_t5 / num)\n",
    "\ttorch.cuda.empty_cache()\n",
    "\tmodel.train()\n",
    "\treturn correct / num"
   ]
  },
  {
   "cell_type": "markdown",
   "metadata": {},
   "source": [
    "# 学习率调整"
   ]
  },
  {
   "cell_type": "code",
   "execution_count": 28,
   "metadata": {},
   "outputs": [],
   "source": [
    "def descent_lr(epoch, optimizer, lr, lr_decay, epoch_schedule):\n",
    "        index = 0\n",
    "        for k in epoch_schedule:\n",
    "            if epoch > k:\n",
    "                index += 1\n",
    "        for param_group in optimizer.param_groups:\n",
    "            param_group['lr'] = lr * lr_decay ** index\n",
    "        print('***********************************')\n",
    "        print('epoch:', epoch)\n",
    "        print('learning rate:', param_group['lr'])\n",
    "        print('***********************************')"
   ]
  },
  {
   "cell_type": "markdown",
   "metadata": {},
   "source": [
    "# Embedding 处理"
   ]
  },
  {
   "cell_type": "code",
   "execution_count": 29,
   "metadata": {},
   "outputs": [],
   "source": [
    "def norm(x):\n",
    "    return np.linalg.norm(x, ord=2, axis=1, keepdims=False)\n",
    "\n",
    "\n",
    "def neural_collapse_embedding(model, data_loader, device):\n",
    "    model.eval()\n",
    "    embedding = []\n",
    "    label = []\n",
    "    for iter, pack in enumerate(data_loader):\n",
    "        data, target = pack[0].to(device), pack[1].to(device)\n",
    "        embed = model.forward_embedding(data)\n",
    "        embedding_arr = embed.detach().cpu().numpy()\n",
    "        embedding.append(embedding_arr)\n",
    "        label_arr = target.cpu().numpy()\n",
    "        label.append(label_arr)\n",
    "    embedding_np = np.concatenate(embedding, 0)\n",
    "    print( embedding_np.shape)\n",
    "    label_np = np.concatenate(label, 0)\n",
    "    class_embedding = []\n",
    "    intra_variation = []\n",
    "    class_mean = []\n",
    "    global_mean = np.mean(embedding_np, 0, keepdims=True)\n",
    "    class_weights = np.zeros((10, 512))\n",
    "    corr_intra = []\n",
    "    corr_inter = []\n",
    "    for k in range(10):\n",
    "        tmp_index = [i for i in range(len(label_np)) if int(label_np[i]) ==k]\n",
    "        class_embedding.append(embedding_np[tmp_index])\n",
    "        class_mean.append(np.mean(embedding_np[tmp_index], 0))\n",
    "        class_weights[k] = class_mean[k]\n",
    "        corr_intra.append(np.matmul((embedding_np[tmp_index] - global_mean).transpose(), (embedding_np[tmp_index] - global_mean) ))\n",
    "        corr_inter.append(np.matmul((np.mean(embedding_np[tmp_index], 0, keepdims=True) - global_mean).transpose(), (np.mean(embedding_np[tmp_index], 0, keepdims=True) - global_mean) ))\n",
    "    corr_intra = np.mean(np.array(corr_intra), 0)\n",
    "    corr_inter = np.mean(np.array(corr_inter), 0)\n",
    "    intra_v = np.matrix.trace(np.matmul(corr_intra, np.linalg.inv(corr_inter))) /10.0\n",
    "    equal_norm_activation = np.std(norm(np.array(class_mean) - global_mean)) / np.mean(norm(np.array(class_mean) - global_mean))\n",
    "    class_mean_matrix = np.array(class_mean) - global_mean\n",
    "    cosine_sim = cosine_similarity(class_mean_matrix, class_mean_matrix).ravel()\n",
    "    cosine_sim = np.array([i for i in cosine_sim if int(i)<1])\n",
    "    equa_ang = np.std(cosine_sim)\n",
    "    equa_ang_2 = np.mean(np.abs(cosine_sim + 1/9.0))\n",
    "    model.train()\n",
    "    return equal_norm_activation, class_weights/ np.linalg.norm(class_weights, ord='fro'), equa_ang, equa_ang_2, intra_v\n"
   ]
  },
  {
   "cell_type": "markdown",
   "metadata": {},
   "source": [
    "# Weight 处理"
   ]
  },
  {
   "cell_type": "code",
   "execution_count": 30,
   "metadata": {},
   "outputs": [],
   "source": [
    "def weight_feature(weight):\n",
    "    weight_norm = np.linalg.norm(weight, ord=2, axis=1, keepdims=False).ravel()\n",
    "    equinorm_weight = np.std(weight_norm) / np.mean(weight_norm)\n",
    "    normalized_weight =  weight / np.linalg.norm(weight, ord='fro')\n",
    "    weight_n = weight - np.mean(weight, 0)\n",
    "    cosine_sim = cosine_similarity(weight_n, weight_n).ravel()\n",
    "    cosine_sim = np.array([i for i in cosine_sim if int(i)<1])\n",
    "    equa_ang_w = np.std(cosine_sim)\n",
    "    equa_ang_w_2 = np.mean(np.abs(cosine_sim + 1/9.0))\n",
    "    return equinorm_weight, normalized_weight, equa_ang_w, equa_ang_w_2"
   ]
  },
  {
   "cell_type": "markdown",
   "metadata": {},
   "source": [
    "# 训练过程"
   ]
  },
  {
   "cell_type": "code",
   "execution_count": null,
   "metadata": {},
   "outputs": [
    {
     "name": "stdout",
     "output_type": "stream",
     "text": [
      "***********************************\n",
      "epoch: 1\n",
      "learning rate: 0.1\n",
      "***********************************\n"
     ]
    }
   ],
   "source": [
    "train_acc = []\n",
    "test_acc = []\n",
    "eq_norm = []\n",
    "eq_norm_w = []\n",
    "eq_ang = []\n",
    "eq_ang_w = []\n",
    "eq_ang_max = []\n",
    "eq_ang_w_max = []\n",
    "classifier_collapse = []\n",
    "variation_collapse = []\n",
    "criterion  = nn.CrossEntropyLoss()\n",
    "for ep in range(1, setting['epochs']+1):\n",
    "    ### train\n",
    "    model.train()\n",
    "    descent_lr(ep, optimizer, setting['lr'], setting['lr_decay'], setting['lr_shedule'])\n",
    "    loss_val = 0\n",
    "    correct = num = 0\n",
    "    for iter, pack in enumerate(train_loader):\n",
    "        data, target = pack[0].to(device), pack[1].to(device)\n",
    "        logits = model(data)\n",
    "        loss = criterion(logits, target)\n",
    "        optimizer.zero_grad()\n",
    "        loss.backward()\n",
    "        optimizer.step()\n",
    "        _, pred = logits.max(1)\n",
    "        loss_val += loss.item()\n",
    "        correct += pred.eq(target).sum().item()\n",
    "        num += data.shape[0]\n",
    "        if (iter + 1) % 50 == 0:\n",
    "            print('*******************************')\n",
    "            print('epoch : ', ep )\n",
    "            print('iteration : ', iter + 1)\n",
    "            print('loss : ', loss_val/100)\n",
    "            print('Correct : ', correct)\n",
    "            print('Num : ', num)\n",
    "            print('Train ACC : ', correct/num)\n",
    "            correct = num = 0\n",
    "            loss_val = 0\n",
    "    ### test\n",
    "    with torch.no_grad():\n",
    "        print('Val ACC')\n",
    "        train_acc_e = evaluate_batch(model, val_loader, device)\n",
    "        print('Test ACC')\n",
    "        test_acc_e = evaluate_batch(model, test_loader, device)\n",
    "        train_acc.append(train_acc_e)\n",
    "        test_acc.append(test_acc_e)\n",
    "        equal_norm, clas_weight, equal_ang, equal_ang_2, intra_var = neural_collapse_embedding(model, val_loader, device)\n",
    "  #      print(model.state_dict()['linear.weight'].size())\n",
    "        tmp_weight =  deepcopy(model.state_dict()['linear.weight'].cpu().detach().numpy())\n",
    " #       print(tmp_weight)\n",
    "        equinorm_weight, n_weight, equal_ang_w, equal_ang_w_2 = weight_feature(tmp_weight)\n",
    "        del tmp_weight\n",
    "        eq_norm.append(equal_norm)\n",
    "        eq_norm_w.append(equinorm_weight)\n",
    "        eq_ang.append(equal_ang)\n",
    "        eq_ang_w.append(equal_ang_w)\n",
    "        eq_ang_max.append(equal_ang_2)\n",
    "        eq_ang_w_max.append(equal_ang_w_2)\n",
    "        variation_collapse.append(intra_var)\n",
    "        classifier_collapse.append(np.linalg.norm(clas_weight-n_weight, ord='fro'))\n"
   ]
  },
  {
   "cell_type": "markdown",
   "metadata": {},
   "source": [
    "# 可视化"
   ]
  },
  {
   "cell_type": "markdown",
   "metadata": {},
   "source": [
    "## zero training error epoch"
   ]
  },
  {
   "cell_type": "code",
   "execution_count": null,
   "metadata": {},
   "outputs": [],
   "source": [
    "zero_train_error_epoch_list = [i for i in range(len(train_acc)) if train_acc[i] > 0.999]\n",
    "zero_train_error_epoch_list.sort()\n",
    "zero_train_error_epoch = zero_train_error_epoch_list[0]\n",
    "print('Zero Training Error')\n",
    "print(zero_train_error_epoch)"
   ]
  },
  {
   "cell_type": "markdown",
   "metadata": {},
   "source": [
    "## Training Acc"
   ]
  },
  {
   "cell_type": "code",
   "execution_count": null,
   "metadata": {},
   "outputs": [],
   "source": [
    "plt.figure()\n",
    "plt.title('Train ACC')\n",
    "plt.plot(range(1, len(train_acc)+1), train_acc)\n",
    "plt.vlines(zero_train_error_epoch, 0, 1, colors = \"r\", linestyles = \"dashed\")\n",
    "plt.savefig('train_acc.png')\n",
    "plt.close()"
   ]
  },
  {
   "cell_type": "markdown",
   "metadata": {},
   "source": [
    "## Testing Acc"
   ]
  },
  {
   "cell_type": "code",
   "execution_count": null,
   "metadata": {},
   "outputs": [],
   "source": [
    "plt.figure()\n",
    "plt.title('Test ACC')\n",
    "plt.plot(range(1, len(test_acc)+1), test_acc)\n",
    "plt.vlines(zero_train_error_epoch, 0, 1, colors = \"r\", linestyles = \"dashed\")\n",
    "plt.savefig('test_acc.png')\n",
    "plt.close()"
   ]
  },
  {
   "cell_type": "markdown",
   "metadata": {},
   "source": [
    "## Equal Norm"
   ]
  },
  {
   "cell_type": "code",
   "execution_count": null,
   "metadata": {},
   "outputs": [],
   "source": [
    "plt.figure()\n",
    "plt.title('Equal Norm')\n",
    "plt.plot(range(1, len(eq_norm)+1), eq_norm,label='Activation')\n",
    "plt.plot(range(1, len(eq_norm)+1), eq_norm_w,label='Weight')\n",
    "plt.legend()\n",
    "plt.vlines(zero_train_error_epoch, 0, 1, colors = \"r\", linestyles = \"dashed\", )\n",
    "plt.savefig('equalnorm.png')\n",
    "plt.close()"
   ]
  },
  {
   "cell_type": "markdown",
   "metadata": {},
   "source": [
    "## Equiangularity"
   ]
  },
  {
   "cell_type": "code",
   "execution_count": null,
   "metadata": {},
   "outputs": [],
   "source": [
    "plt.figure()\n",
    "plt.title('Equal Ang')\n",
    "plt.plot(range(1, len(eq_norm)+1), eq_ang,label='Activation')\n",
    "plt.plot(range(1, len(eq_norm)+1), eq_ang_w,label='Weight')\n",
    "plt.legend()\n",
    "plt.vlines(zero_train_error_epoch, 0, 1, colors = \"r\", linestyles = \"dashed\", )\n",
    "plt.savefig('equalang.png')\n",
    "plt.close()\n",
    "\n",
    "plt.figure()\n",
    "plt.title('Equal Ang MAx')\n",
    "plt.plot(range(1, len(eq_norm)+1), eq_ang_max,label='Activation')\n",
    "plt.plot(range(1, len(eq_norm)+1), eq_ang_w_max,label='Weight')\n",
    "plt.legend()\n",
    "plt.vlines(zero_train_error_epoch, 0, 1, colors = \"r\", linestyles = \"dashed\", )\n",
    "plt.savefig('equalang_max.png')\n"
   ]
  },
  {
   "cell_type": "markdown",
   "metadata": {},
   "source": [
    "## within-class variation collapses"
   ]
  },
  {
   "cell_type": "code",
   "execution_count": null,
   "metadata": {},
   "outputs": [],
   "source": [
    "plt.figure()\n",
    "plt.title('Intra Class  Collapse')\n",
    "plt.plot(range(1, len(eq_norm)+1), variation_collapse)\n",
    "\n",
    "plt.vlines(zero_train_error_epoch, 0, 1, colors = \"r\", linestyles = \"dashed\", )\n",
    "plt.savefig('variationcollapse.png')\n",
    "plt.close()"
   ]
  },
  {
   "cell_type": "markdown",
   "metadata": {},
   "source": [
    "## Classifier converges to train class-means"
   ]
  },
  {
   "cell_type": "code",
   "execution_count": null,
   "metadata": {},
   "outputs": [],
   "source": [
    "plt.figure()\n",
    "plt.title('Weight Collapse')\n",
    "plt.plot(range(1, len(eq_norm)+1), classifier_collapse)\n",
    "\n",
    "plt.vlines(zero_train_error_epoch, 0, 1, colors = \"r\", linestyles = \"dashed\", )\n",
    "plt.savefig('weightcollapse.png')\n",
    "plt.close()"
   ]
  }
 ],
 "metadata": {
  "kernelspec": {
   "display_name": "Python 3",
   "language": "python",
   "name": "python3"
  },
  "language_info": {
   "codemirror_mode": {
    "name": "ipython",
    "version": 3
   },
   "file_extension": ".py",
   "mimetype": "text/x-python",
   "name": "python",
   "nbconvert_exporter": "python",
   "pygments_lexer": "ipython3",
   "version": "3.7.6"
  }
 },
 "nbformat": 4,
 "nbformat_minor": 4
}
